{
 "cells": [
  {
   "cell_type": "markdown",
   "id": "d63861a1",
   "metadata": {
    "papermill": {
     "duration": 0.010949,
     "end_time": "2024-09-19T11:51:02.220405",
     "exception": false,
     "start_time": "2024-09-19T11:51:02.209456",
     "status": "completed"
    },
    "tags": []
   },
   "source": [
    "# Importing libraries"
   ]
  },
  {
   "cell_type": "code",
   "execution_count": 1,
   "id": "969270a7",
   "metadata": {
    "execution": {
     "iopub.execute_input": "2024-09-19T11:51:02.240851Z",
     "iopub.status.busy": "2024-09-19T11:51:02.240291Z",
     "iopub.status.idle": "2024-09-19T11:51:04.485006Z",
     "shell.execute_reply": "2024-09-19T11:51:04.483900Z"
    },
    "papermill": {
     "duration": 2.258327,
     "end_time": "2024-09-19T11:51:04.487850",
     "exception": false,
     "start_time": "2024-09-19T11:51:02.229523",
     "status": "completed"
    },
    "tags": []
   },
   "outputs": [],
   "source": [
    "import pandas as pd \n",
    "import numpy as np\n",
    "import seaborn as sns\n",
    "import matplotlib.pyplot as plt"
   ]
  },
  {
   "cell_type": "code",
   "execution_count": 2,
   "id": "5eb69859",
   "metadata": {
    "execution": {
     "iopub.execute_input": "2024-09-19T11:51:04.507978Z",
     "iopub.status.busy": "2024-09-19T11:51:04.507336Z",
     "iopub.status.idle": "2024-09-19T11:51:04.675949Z",
     "shell.execute_reply": "2024-09-19T11:51:04.674797Z"
    },
    "papermill": {
     "duration": 0.18176,
     "end_time": "2024-09-19T11:51:04.678845",
     "exception": false,
     "start_time": "2024-09-19T11:51:04.497085",
     "status": "completed"
    },
    "tags": []
   },
   "outputs": [],
   "source": [
    "df =pd.read_csv(r\"/kaggle/input/netflix-shows/netflix_titles.csv\")"
   ]
  },
  {
   "cell_type": "code",
   "execution_count": 3,
   "id": "18333a0e",
   "metadata": {
    "execution": {
     "iopub.execute_input": "2024-09-19T11:51:04.698402Z",
     "iopub.status.busy": "2024-09-19T11:51:04.698007Z",
     "iopub.status.idle": "2024-09-19T11:51:04.727157Z",
     "shell.execute_reply": "2024-09-19T11:51:04.725983Z"
    },
    "papermill": {
     "duration": 0.042239,
     "end_time": "2024-09-19T11:51:04.729926",
     "exception": false,
     "start_time": "2024-09-19T11:51:04.687687",
     "status": "completed"
    },
    "tags": []
   },
   "outputs": [
    {
     "data": {
      "text/html": [
       "<div>\n",
       "<style scoped>\n",
       "    .dataframe tbody tr th:only-of-type {\n",
       "        vertical-align: middle;\n",
       "    }\n",
       "\n",
       "    .dataframe tbody tr th {\n",
       "        vertical-align: top;\n",
       "    }\n",
       "\n",
       "    .dataframe thead th {\n",
       "        text-align: right;\n",
       "    }\n",
       "</style>\n",
       "<table border=\"1\" class=\"dataframe\">\n",
       "  <thead>\n",
       "    <tr style=\"text-align: right;\">\n",
       "      <th></th>\n",
       "      <th>show_id</th>\n",
       "      <th>type</th>\n",
       "      <th>title</th>\n",
       "      <th>director</th>\n",
       "      <th>cast</th>\n",
       "      <th>country</th>\n",
       "      <th>date_added</th>\n",
       "      <th>release_year</th>\n",
       "      <th>rating</th>\n",
       "      <th>duration</th>\n",
       "      <th>listed_in</th>\n",
       "      <th>description</th>\n",
       "    </tr>\n",
       "  </thead>\n",
       "  <tbody>\n",
       "    <tr>\n",
       "      <th>0</th>\n",
       "      <td>s1</td>\n",
       "      <td>Movie</td>\n",
       "      <td>Dick Johnson Is Dead</td>\n",
       "      <td>Kirsten Johnson</td>\n",
       "      <td>NaN</td>\n",
       "      <td>United States</td>\n",
       "      <td>September 25, 2021</td>\n",
       "      <td>2020</td>\n",
       "      <td>PG-13</td>\n",
       "      <td>90 min</td>\n",
       "      <td>Documentaries</td>\n",
       "      <td>As her father nears the end of his life, filmm...</td>\n",
       "    </tr>\n",
       "    <tr>\n",
       "      <th>1</th>\n",
       "      <td>s2</td>\n",
       "      <td>TV Show</td>\n",
       "      <td>Blood &amp; Water</td>\n",
       "      <td>NaN</td>\n",
       "      <td>Ama Qamata, Khosi Ngema, Gail Mabalane, Thaban...</td>\n",
       "      <td>South Africa</td>\n",
       "      <td>September 24, 2021</td>\n",
       "      <td>2021</td>\n",
       "      <td>TV-MA</td>\n",
       "      <td>2 Seasons</td>\n",
       "      <td>International TV Shows, TV Dramas, TV Mysteries</td>\n",
       "      <td>After crossing paths at a party, a Cape Town t...</td>\n",
       "    </tr>\n",
       "    <tr>\n",
       "      <th>2</th>\n",
       "      <td>s3</td>\n",
       "      <td>TV Show</td>\n",
       "      <td>Ganglands</td>\n",
       "      <td>Julien Leclercq</td>\n",
       "      <td>Sami Bouajila, Tracy Gotoas, Samuel Jouy, Nabi...</td>\n",
       "      <td>NaN</td>\n",
       "      <td>September 24, 2021</td>\n",
       "      <td>2021</td>\n",
       "      <td>TV-MA</td>\n",
       "      <td>1 Season</td>\n",
       "      <td>Crime TV Shows, International TV Shows, TV Act...</td>\n",
       "      <td>To protect his family from a powerful drug lor...</td>\n",
       "    </tr>\n",
       "    <tr>\n",
       "      <th>3</th>\n",
       "      <td>s4</td>\n",
       "      <td>TV Show</td>\n",
       "      <td>Jailbirds New Orleans</td>\n",
       "      <td>NaN</td>\n",
       "      <td>NaN</td>\n",
       "      <td>NaN</td>\n",
       "      <td>September 24, 2021</td>\n",
       "      <td>2021</td>\n",
       "      <td>TV-MA</td>\n",
       "      <td>1 Season</td>\n",
       "      <td>Docuseries, Reality TV</td>\n",
       "      <td>Feuds, flirtations and toilet talk go down amo...</td>\n",
       "    </tr>\n",
       "    <tr>\n",
       "      <th>4</th>\n",
       "      <td>s5</td>\n",
       "      <td>TV Show</td>\n",
       "      <td>Kota Factory</td>\n",
       "      <td>NaN</td>\n",
       "      <td>Mayur More, Jitendra Kumar, Ranjan Raj, Alam K...</td>\n",
       "      <td>India</td>\n",
       "      <td>September 24, 2021</td>\n",
       "      <td>2021</td>\n",
       "      <td>TV-MA</td>\n",
       "      <td>2 Seasons</td>\n",
       "      <td>International TV Shows, Romantic TV Shows, TV ...</td>\n",
       "      <td>In a city of coaching centers known to train I...</td>\n",
       "    </tr>\n",
       "  </tbody>\n",
       "</table>\n",
       "</div>"
      ],
      "text/plain": [
       "  show_id     type                  title         director  \\\n",
       "0      s1    Movie   Dick Johnson Is Dead  Kirsten Johnson   \n",
       "1      s2  TV Show          Blood & Water              NaN   \n",
       "2      s3  TV Show              Ganglands  Julien Leclercq   \n",
       "3      s4  TV Show  Jailbirds New Orleans              NaN   \n",
       "4      s5  TV Show           Kota Factory              NaN   \n",
       "\n",
       "                                                cast        country  \\\n",
       "0                                                NaN  United States   \n",
       "1  Ama Qamata, Khosi Ngema, Gail Mabalane, Thaban...   South Africa   \n",
       "2  Sami Bouajila, Tracy Gotoas, Samuel Jouy, Nabi...            NaN   \n",
       "3                                                NaN            NaN   \n",
       "4  Mayur More, Jitendra Kumar, Ranjan Raj, Alam K...          India   \n",
       "\n",
       "           date_added  release_year rating   duration  \\\n",
       "0  September 25, 2021          2020  PG-13     90 min   \n",
       "1  September 24, 2021          2021  TV-MA  2 Seasons   \n",
       "2  September 24, 2021          2021  TV-MA   1 Season   \n",
       "3  September 24, 2021          2021  TV-MA   1 Season   \n",
       "4  September 24, 2021          2021  TV-MA  2 Seasons   \n",
       "\n",
       "                                           listed_in  \\\n",
       "0                                      Documentaries   \n",
       "1    International TV Shows, TV Dramas, TV Mysteries   \n",
       "2  Crime TV Shows, International TV Shows, TV Act...   \n",
       "3                             Docuseries, Reality TV   \n",
       "4  International TV Shows, Romantic TV Shows, TV ...   \n",
       "\n",
       "                                         description  \n",
       "0  As her father nears the end of his life, filmm...  \n",
       "1  After crossing paths at a party, a Cape Town t...  \n",
       "2  To protect his family from a powerful drug lor...  \n",
       "3  Feuds, flirtations and toilet talk go down amo...  \n",
       "4  In a city of coaching centers known to train I...  "
      ]
     },
     "execution_count": 3,
     "metadata": {},
     "output_type": "execute_result"
    }
   ],
   "source": [
    "df.head()"
   ]
  },
  {
   "cell_type": "code",
   "execution_count": 4,
   "id": "7c26d015",
   "metadata": {
    "execution": {
     "iopub.execute_input": "2024-09-19T11:51:04.750442Z",
     "iopub.status.busy": "2024-09-19T11:51:04.750034Z",
     "iopub.status.idle": "2024-09-19T11:51:04.758104Z",
     "shell.execute_reply": "2024-09-19T11:51:04.756746Z"
    },
    "papermill": {
     "duration": 0.021518,
     "end_time": "2024-09-19T11:51:04.760790",
     "exception": false,
     "start_time": "2024-09-19T11:51:04.739272",
     "status": "completed"
    },
    "tags": []
   },
   "outputs": [
    {
     "data": {
      "text/plain": [
       "(8807, 12)"
      ]
     },
     "execution_count": 4,
     "metadata": {},
     "output_type": "execute_result"
    }
   ],
   "source": [
    "df.shape"
   ]
  },
  {
   "cell_type": "code",
   "execution_count": 5,
   "id": "e02a8e9f",
   "metadata": {
    "execution": {
     "iopub.execute_input": "2024-09-19T11:51:04.781781Z",
     "iopub.status.busy": "2024-09-19T11:51:04.781324Z",
     "iopub.status.idle": "2024-09-19T11:51:04.817379Z",
     "shell.execute_reply": "2024-09-19T11:51:04.815839Z"
    },
    "papermill": {
     "duration": 0.050144,
     "end_time": "2024-09-19T11:51:04.820588",
     "exception": false,
     "start_time": "2024-09-19T11:51:04.770444",
     "status": "completed"
    },
    "tags": []
   },
   "outputs": [
    {
     "name": "stdout",
     "output_type": "stream",
     "text": [
      "<class 'pandas.core.frame.DataFrame'>\n",
      "RangeIndex: 8807 entries, 0 to 8806\n",
      "Data columns (total 12 columns):\n",
      " #   Column        Non-Null Count  Dtype \n",
      "---  ------        --------------  ----- \n",
      " 0   show_id       8807 non-null   object\n",
      " 1   type          8807 non-null   object\n",
      " 2   title         8807 non-null   object\n",
      " 3   director      6173 non-null   object\n",
      " 4   cast          7982 non-null   object\n",
      " 5   country       7976 non-null   object\n",
      " 6   date_added    8797 non-null   object\n",
      " 7   release_year  8807 non-null   int64 \n",
      " 8   rating        8803 non-null   object\n",
      " 9   duration      8804 non-null   object\n",
      " 10  listed_in     8807 non-null   object\n",
      " 11  description   8807 non-null   object\n",
      "dtypes: int64(1), object(11)\n",
      "memory usage: 825.8+ KB\n"
     ]
    }
   ],
   "source": [
    "df.info()"
   ]
  },
  {
   "cell_type": "code",
   "execution_count": 6,
   "id": "59e5f83c",
   "metadata": {
    "execution": {
     "iopub.execute_input": "2024-09-19T11:51:04.843028Z",
     "iopub.status.busy": "2024-09-19T11:51:04.842538Z",
     "iopub.status.idle": "2024-09-19T11:51:04.864363Z",
     "shell.execute_reply": "2024-09-19T11:51:04.863231Z"
    },
    "papermill": {
     "duration": 0.036125,
     "end_time": "2024-09-19T11:51:04.866868",
     "exception": false,
     "start_time": "2024-09-19T11:51:04.830743",
     "status": "completed"
    },
    "tags": []
   },
   "outputs": [
    {
     "data": {
      "text/plain": [
       "show_id            0\n",
       "type               0\n",
       "title              0\n",
       "director        2634\n",
       "cast             825\n",
       "country          831\n",
       "date_added        10\n",
       "release_year       0\n",
       "rating             4\n",
       "duration           3\n",
       "listed_in          0\n",
       "description        0\n",
       "dtype: int64"
      ]
     },
     "execution_count": 6,
     "metadata": {},
     "output_type": "execute_result"
    }
   ],
   "source": [
    "df.isnull().sum()"
   ]
  },
  {
   "cell_type": "markdown",
   "id": "63094ff3",
   "metadata": {
    "papermill": {
     "duration": 0.00943,
     "end_time": "2024-09-19T11:51:04.885957",
     "exception": false,
     "start_time": "2024-09-19T11:51:04.876527",
     "status": "completed"
    },
    "tags": []
   },
   "source": [
    "# Percentage of null values"
   ]
  },
  {
   "cell_type": "code",
   "execution_count": 7,
   "id": "f61db4ba",
   "metadata": {
    "execution": {
     "iopub.execute_input": "2024-09-19T11:51:04.907853Z",
     "iopub.status.busy": "2024-09-19T11:51:04.907380Z",
     "iopub.status.idle": "2024-09-19T11:51:04.931421Z",
     "shell.execute_reply": "2024-09-19T11:51:04.930167Z"
    },
    "papermill": {
     "duration": 0.038049,
     "end_time": "2024-09-19T11:51:04.934135",
     "exception": false,
     "start_time": "2024-09-19T11:51:04.896086",
     "status": "completed"
    },
    "tags": []
   },
   "outputs": [
    {
     "data": {
      "text/plain": [
       "show_id          0.000000\n",
       "type             0.000000\n",
       "title            0.000000\n",
       "director        29.908028\n",
       "cast             9.367549\n",
       "country          9.435676\n",
       "date_added       0.113546\n",
       "release_year     0.000000\n",
       "rating           0.045418\n",
       "duration         0.034064\n",
       "listed_in        0.000000\n",
       "description      0.000000\n",
       "dtype: float64"
      ]
     },
     "execution_count": 7,
     "metadata": {},
     "output_type": "execute_result"
    }
   ],
   "source": [
    "(df.isnull().sum() / df.shape[0])*100"
   ]
  },
  {
   "cell_type": "markdown",
   "id": "e63e8710",
   "metadata": {
    "papermill": {
     "duration": 0.010009,
     "end_time": "2024-09-19T11:51:04.954068",
     "exception": false,
     "start_time": "2024-09-19T11:51:04.944059",
     "status": "completed"
    },
    "tags": []
   },
   "source": [
    "# Drop the null value"
   ]
  },
  {
   "cell_type": "code",
   "execution_count": 8,
   "id": "7380a48e",
   "metadata": {
    "execution": {
     "iopub.execute_input": "2024-09-19T11:51:04.976028Z",
     "iopub.status.busy": "2024-09-19T11:51:04.975593Z",
     "iopub.status.idle": "2024-09-19T11:51:04.987173Z",
     "shell.execute_reply": "2024-09-19T11:51:04.985893Z"
    },
    "papermill": {
     "duration": 0.025675,
     "end_time": "2024-09-19T11:51:04.989806",
     "exception": false,
     "start_time": "2024-09-19T11:51:04.964131",
     "status": "completed"
    },
    "tags": []
   },
   "outputs": [],
   "source": [
    "df.drop(columns=[\"director\"],inplace=True)"
   ]
  },
  {
   "cell_type": "markdown",
   "id": "81dc0a71",
   "metadata": {
    "papermill": {
     "duration": 0.00951,
     "end_time": "2024-09-19T11:51:05.009506",
     "exception": false,
     "start_time": "2024-09-19T11:51:04.999996",
     "status": "completed"
    },
    "tags": []
   },
   "source": [
    "# Fill the null values"
   ]
  },
  {
   "cell_type": "code",
   "execution_count": 9,
   "id": "a9458f0c",
   "metadata": {
    "execution": {
     "iopub.execute_input": "2024-09-19T11:51:05.031654Z",
     "iopub.status.busy": "2024-09-19T11:51:05.031240Z",
     "iopub.status.idle": "2024-09-19T11:51:05.036573Z",
     "shell.execute_reply": "2024-09-19T11:51:05.035341Z"
    },
    "papermill": {
     "duration": 0.019601,
     "end_time": "2024-09-19T11:51:05.039111",
     "exception": false,
     "start_time": "2024-09-19T11:51:05.019510",
     "status": "completed"
    },
    "tags": []
   },
   "outputs": [],
   "source": [
    "list = []"
   ]
  },
  {
   "cell_type": "code",
   "execution_count": 10,
   "id": "c713f7bb",
   "metadata": {
    "execution": {
     "iopub.execute_input": "2024-09-19T11:51:05.060741Z",
     "iopub.status.busy": "2024-09-19T11:51:05.060306Z",
     "iopub.status.idle": "2024-09-19T11:51:05.135458Z",
     "shell.execute_reply": "2024-09-19T11:51:05.134261Z"
    },
    "papermill": {
     "duration": 0.088964,
     "end_time": "2024-09-19T11:51:05.138003",
     "exception": false,
     "start_time": "2024-09-19T11:51:05.049039",
     "status": "completed"
    },
    "tags": []
   },
   "outputs": [
    {
     "name": "stderr",
     "output_type": "stream",
     "text": [
      "/tmp/ipykernel_17/3618991704.py:2: FutureWarning: A value is trying to be set on a copy of a DataFrame or Series through chained assignment using an inplace method.\n",
      "The behavior will change in pandas 3.0. This inplace method will never work because the intermediate object on which we are setting values always behaves as a copy.\n",
      "\n",
      "For example, when doing 'df[col].method(value, inplace=True)', try using 'df.method({col: value}, inplace=True)' or df[col] = df[col].method(value) instead, to perform the operation inplace on the original object.\n",
      "\n",
      "\n",
      "  df[i].fillna(df[i].mode()[0],inplace=True)\n"
     ]
    }
   ],
   "source": [
    "for i in df.select_dtypes(include = [\"object\"],).columns:\n",
    "    df[i].fillna(df[i].mode()[0],inplace=True)\n",
    "    "
   ]
  },
  {
   "cell_type": "code",
   "execution_count": 11,
   "id": "96a8b8b9",
   "metadata": {
    "execution": {
     "iopub.execute_input": "2024-09-19T11:51:05.160767Z",
     "iopub.status.busy": "2024-09-19T11:51:05.160314Z",
     "iopub.status.idle": "2024-09-19T11:51:05.181008Z",
     "shell.execute_reply": "2024-09-19T11:51:05.179794Z"
    },
    "papermill": {
     "duration": 0.035191,
     "end_time": "2024-09-19T11:51:05.183560",
     "exception": false,
     "start_time": "2024-09-19T11:51:05.148369",
     "status": "completed"
    },
    "tags": []
   },
   "outputs": [
    {
     "data": {
      "text/plain": [
       "show_id         0\n",
       "type            0\n",
       "title           0\n",
       "cast            0\n",
       "country         0\n",
       "date_added      0\n",
       "release_year    0\n",
       "rating          0\n",
       "duration        0\n",
       "listed_in       0\n",
       "description     0\n",
       "dtype: int64"
      ]
     },
     "execution_count": 11,
     "metadata": {},
     "output_type": "execute_result"
    }
   ],
   "source": [
    "df.isnull().sum()"
   ]
  },
  {
   "cell_type": "code",
   "execution_count": 12,
   "id": "fcb81195",
   "metadata": {
    "execution": {
     "iopub.execute_input": "2024-09-19T11:51:05.205947Z",
     "iopub.status.busy": "2024-09-19T11:51:05.205477Z",
     "iopub.status.idle": "2024-09-19T11:51:05.215583Z",
     "shell.execute_reply": "2024-09-19T11:51:05.214459Z"
    },
    "papermill": {
     "duration": 0.024305,
     "end_time": "2024-09-19T11:51:05.218031",
     "exception": false,
     "start_time": "2024-09-19T11:51:05.193726",
     "status": "completed"
    },
    "tags": []
   },
   "outputs": [
    {
     "data": {
      "text/plain": [
       "0          s1\n",
       "1          s2\n",
       "2          s3\n",
       "3          s4\n",
       "4          s5\n",
       "        ...  \n",
       "8802    s8803\n",
       "8803    s8804\n",
       "8804    s8805\n",
       "8805    s8806\n",
       "8806    s8807\n",
       "Name: show_id, Length: 8807, dtype: object"
      ]
     },
     "execution_count": 12,
     "metadata": {},
     "output_type": "execute_result"
    }
   ],
   "source": [
    "df[\"show_id\"]"
   ]
  },
  {
   "cell_type": "code",
   "execution_count": 13,
   "id": "c87c4400",
   "metadata": {
    "execution": {
     "iopub.execute_input": "2024-09-19T11:51:05.241071Z",
     "iopub.status.busy": "2024-09-19T11:51:05.240185Z",
     "iopub.status.idle": "2024-09-19T11:51:05.481371Z",
     "shell.execute_reply": "2024-09-19T11:51:05.480085Z"
    },
    "papermill": {
     "duration": 0.255952,
     "end_time": "2024-09-19T11:51:05.484276",
     "exception": false,
     "start_time": "2024-09-19T11:51:05.228324",
     "status": "completed"
    },
    "tags": []
   },
   "outputs": [
    {
     "data": {
      "image/png": "[encoded data removed]",
      "text/plain": [
       "<Figure size 640x480 with 1 Axes>"
      ]
     },
     "metadata": {},
     "output_type": "display_data"
    }
   ],
   "source": [
    "ax = sns.countplot(x =\"type\" ,data=df)\n",
    "plt.title(\"Type counts\")\n",
    "ax.bar_label(ax.containers[0])\n",
    "plt.show()"
   ]
  },
  {
   "cell_type": "code",
   "execution_count": 14,
   "id": "662f6d64",
   "metadata": {
    "execution": {
     "iopub.execute_input": "2024-09-19T11:51:05.508579Z",
     "iopub.status.busy": "2024-09-19T11:51:05.507489Z",
     "iopub.status.idle": "2024-09-19T11:51:05.523191Z",
     "shell.execute_reply": "2024-09-19T11:51:05.521893Z"
    },
    "papermill": {
     "duration": 0.030439,
     "end_time": "2024-09-19T11:51:05.525673",
     "exception": false,
     "start_time": "2024-09-19T11:51:05.495234",
     "status": "completed"
    },
    "tags": []
   },
   "outputs": [
    {
     "data": {
      "text/plain": [
       "cast\n",
       "David Attenborough                                                                                                                                                                            844\n",
       "Vatsal Dubey, Julie Tejwani, Rupa Bhimani, Jigna Bhardwaj, Rajesh Kava, Mousam, Swapnil                                                                                                        14\n",
       "Samuel West                                                                                                                                                                                    10\n",
       "Jeff Dunham                                                                                                                                                                                     7\n",
       "Craig Sechler                                                                                                                                                                                   6\n",
       "                                                                                                                                                                                             ... \n",
       "Nick Lachey, Vanessa Lachey                                                                                                                                                                     1\n",
       "Takeru Sato, Kasumi Arimura, Haru, Kentaro Sakaguchi, Takayuki Yamada, Kendo Kobayashi, Ken Yasuda, Arata Furuta, Suzuki Matsuo, Koichi Yamadera, Arata Iura, Chikako Kaku, Kotaro Yoshida      1\n",
       "Toyin Abraham, Sambasa Nzeribe, Chioma Chukwuka Akpotha, Chioma Omeruah, Chiwetalu Agu, Dele Odule, Femi Adebayo, Bayray McNwizu, Biodun Stephen                                                1\n",
       "Neeraj Kabi, Geetanjali Kulkarni, Danish Husain, Sheeba Chaddha, Paras Priyadarshan, Anshul Chauhan, Anud Singh Dhaka, Shirin Sewani, Mihir Ahuja, Vasundhara Rajput                            1\n",
       "Vicky Kaushal, Sarah-Jane Dias, Raaghav Chanana, Manish Chaudhary, Meghna Malik, Malkeet Rauni, Anita Shabdish, Chittaranjan Tripathy                                                           1\n",
       "Name: count, Length: 7692, dtype: int64"
      ]
     },
     "execution_count": 14,
     "metadata": {},
     "output_type": "execute_result"
    }
   ],
   "source": [
    "df[\"cast\"].value_counts()"
   ]
  },
  {
   "cell_type": "code",
   "execution_count": 15,
   "id": "1bbe307b",
   "metadata": {
    "execution": {
     "iopub.execute_input": "2024-09-19T11:51:05.549714Z",
     "iopub.status.busy": "2024-09-19T11:51:05.548839Z",
     "iopub.status.idle": "2024-09-19T11:51:05.561192Z",
     "shell.execute_reply": "2024-09-19T11:51:05.560120Z"
    },
    "papermill": {
     "duration": 0.027293,
     "end_time": "2024-09-19T11:51:05.563990",
     "exception": false,
     "start_time": "2024-09-19T11:51:05.536697",
     "status": "completed"
    },
    "tags": []
   },
   "outputs": [
    {
     "data": {
      "text/plain": [
       "country\n",
       "United States                             3649\n",
       "India                                      972\n",
       "United Kingdom                             419\n",
       "Japan                                      245\n",
       "South Korea                                199\n",
       "                                          ... \n",
       "Romania, Bulgaria, Hungary                   1\n",
       "Uruguay, Guatemala                           1\n",
       "France, Senegal, Belgium                     1\n",
       "Mexico, United States, Spain, Colombia       1\n",
       "United Arab Emirates, Jordan                 1\n",
       "Name: count, Length: 748, dtype: int64"
      ]
     },
     "execution_count": 15,
     "metadata": {},
     "output_type": "execute_result"
    }
   ],
   "source": [
    "df[\"country\"].value_counts()"
   ]
  },
  {
   "cell_type": "code",
   "execution_count": 16,
   "id": "3f0decd3",
   "metadata": {
    "execution": {
     "iopub.execute_input": "2024-09-19T11:51:05.589096Z",
     "iopub.status.busy": "2024-09-19T11:51:05.588285Z",
     "iopub.status.idle": "2024-09-19T11:51:05.947377Z",
     "shell.execute_reply": "2024-09-19T11:51:05.946093Z"
    },
    "papermill": {
     "duration": 0.374167,
     "end_time": "2024-09-19T11:51:05.950214",
     "exception": false,
     "start_time": "2024-09-19T11:51:05.576047",
     "status": "completed"
    },
    "tags": []
   },
   "outputs": [
    {
     "data": {
      "image/png": "[encoded data removed]",
      "text/plain": [
       "<Figure size 640x480 with 1 Axes>"
      ]
     },
     "metadata": {},
     "output_type": "display_data"
    }
   ],
   "source": [
    "country_10 = df[\"country\"].value_counts().head(10)\n",
    "sns.barplot(x = country_10.index,y=country_10.values)\n",
    "plt.title('Top 10 Countries Producing Netflix Content')\n",
    "plt.xticks(rotation=45)\n",
    "plt.show()"
   ]
  },
  {
   "cell_type": "code",
   "execution_count": 17,
   "id": "cb8e7d37",
   "metadata": {
    "execution": {
     "iopub.execute_input": "2024-09-19T11:51:05.976576Z",
     "iopub.status.busy": "2024-09-19T11:51:05.976089Z",
     "iopub.status.idle": "2024-09-19T11:51:05.985558Z",
     "shell.execute_reply": "2024-09-19T11:51:05.984365Z"
    },
    "papermill": {
     "duration": 0.025976,
     "end_time": "2024-09-19T11:51:05.988182",
     "exception": false,
     "start_time": "2024-09-19T11:51:05.962206",
     "status": "completed"
    },
    "tags": []
   },
   "outputs": [
    {
     "data": {
      "text/plain": [
       "country\n",
       "United States     3649\n",
       "India              972\n",
       "United Kingdom     419\n",
       "Japan              245\n",
       "South Korea        199\n",
       "Canada             181\n",
       "Spain              145\n",
       "France             124\n",
       "Mexico             110\n",
       "Egypt              106\n",
       "Name: count, dtype: int64"
      ]
     },
     "execution_count": 17,
     "metadata": {},
     "output_type": "execute_result"
    }
   ],
   "source": [
    "country_10"
   ]
  },
  {
   "cell_type": "code",
   "execution_count": 18,
   "id": "498f6b8c",
   "metadata": {
    "execution": {
     "iopub.execute_input": "2024-09-19T11:51:06.014713Z",
     "iopub.status.busy": "2024-09-19T11:51:06.013662Z",
     "iopub.status.idle": "2024-09-19T11:51:06.352243Z",
     "shell.execute_reply": "2024-09-19T11:51:06.350942Z"
    },
    "papermill": {
     "duration": 0.354342,
     "end_time": "2024-09-19T11:51:06.354782",
     "exception": false,
     "start_time": "2024-09-19T11:51:06.000440",
     "status": "completed"
    },
    "tags": []
   },
   "outputs": [
    {
     "data": {
      "image/png": "[encoded data removed]",
      "text/plain": [
       "<Figure size 1200x400 with 1 Axes>"
      ]
     },
     "metadata": {},
     "output_type": "display_data"
    }
   ],
   "source": [
    "plt.figure(figsize = (12,4))\n",
    "sns.countplot(data=df,x = \"rating\",order = df[\"rating\"].value_counts().index)\n",
    "plt.title('Distribution of Content Ratings')\n",
    "plt.xticks(rotation=45)\n",
    "plt.show()"
   ]
  },
  {
   "cell_type": "code",
   "execution_count": 19,
   "id": "edab2224",
   "metadata": {
    "execution": {
     "iopub.execute_input": "2024-09-19T11:51:06.382570Z",
     "iopub.status.busy": "2024-09-19T11:51:06.382114Z",
     "iopub.status.idle": "2024-09-19T11:51:06.394194Z",
     "shell.execute_reply": "2024-09-19T11:51:06.392584Z"
    },
    "papermill": {
     "duration": 0.029744,
     "end_time": "2024-09-19T11:51:06.397278",
     "exception": false,
     "start_time": "2024-09-19T11:51:06.367534",
     "status": "completed"
    },
    "tags": []
   },
   "outputs": [
    {
     "data": {
      "text/plain": [
       "rating\n",
       "TV-MA       3211\n",
       "TV-14       2160\n",
       "TV-PG        863\n",
       "R            799\n",
       "PG-13        490\n",
       "TV-Y7        334\n",
       "TV-Y         307\n",
       "PG           287\n",
       "TV-G         220\n",
       "NR            80\n",
       "G             41\n",
       "TV-Y7-FV       6\n",
       "NC-17          3\n",
       "UR             3\n",
       "74 min         1\n",
       "84 min         1\n",
       "66 min         1\n",
       "Name: count, dtype: int64"
      ]
     },
     "execution_count": 19,
     "metadata": {},
     "output_type": "execute_result"
    }
   ],
   "source": [
    "df[\"rating\"].value_counts()"
   ]
  },
  {
   "cell_type": "code",
   "execution_count": 20,
   "id": "b1279a94",
   "metadata": {
    "execution": {
     "iopub.execute_input": "2024-09-19T11:51:06.426491Z",
     "iopub.status.busy": "2024-09-19T11:51:06.425348Z",
     "iopub.status.idle": "2024-09-19T11:51:06.854096Z",
     "shell.execute_reply": "2024-09-19T11:51:06.852809Z"
    },
    "papermill": {
     "duration": 0.446863,
     "end_time": "2024-09-19T11:51:06.857194",
     "exception": false,
     "start_time": "2024-09-19T11:51:06.410331",
     "status": "completed"
    },
    "tags": []
   },
   "outputs": [
    {
     "name": "stderr",
     "output_type": "stream",
     "text": [
      "/opt/conda/lib/python3.10/site-packages/seaborn/_oldcore.py:1119: FutureWarning: use_inf_as_na option is deprecated and will be removed in a future version. Convert inf values to NaN before operating instead.\n",
      "  with pd.option_context('mode.use_inf_as_na', True):\n"
     ]
    },
    {
     "data": {
      "image/png": "[encoded data removed]",
      "text/plain": [
       "<Figure size 1200x700 with 1 Axes>"
      ]
     },
     "metadata": {},
     "output_type": "display_data"
    }
   ],
   "source": [
    "plt.figure(figsize=(12,7))\n",
    "sns.histplot(data=df,x=\"release_year\",kde=True,bins = 20,color = \"green\")\n",
    "plt.title('Number of Titles Released per Year')\n",
    "plt.show()"
   ]
  },
  {
   "cell_type": "code",
   "execution_count": 21,
   "id": "923c9296",
   "metadata": {
    "execution": {
     "iopub.execute_input": "2024-09-19T11:51:06.887739Z",
     "iopub.status.busy": "2024-09-19T11:51:06.887317Z",
     "iopub.status.idle": "2024-09-19T11:51:06.897071Z",
     "shell.execute_reply": "2024-09-19T11:51:06.895889Z"
    },
    "papermill": {
     "duration": 0.028412,
     "end_time": "2024-09-19T11:51:06.899647",
     "exception": false,
     "start_time": "2024-09-19T11:51:06.871235",
     "status": "completed"
    },
    "tags": []
   },
   "outputs": [
    {
     "data": {
      "text/plain": [
       "0          90 min\n",
       "1       2 Seasons\n",
       "2        1 Season\n",
       "3        1 Season\n",
       "4       2 Seasons\n",
       "          ...    \n",
       "8802      158 min\n",
       "8803    2 Seasons\n",
       "8804       88 min\n",
       "8805       88 min\n",
       "8806      111 min\n",
       "Name: duration, Length: 8807, dtype: object"
      ]
     },
     "execution_count": 21,
     "metadata": {},
     "output_type": "execute_result"
    }
   ],
   "source": [
    "df[\"duration\"]"
   ]
  },
  {
   "cell_type": "code",
   "execution_count": 22,
   "id": "8d275023",
   "metadata": {
    "execution": {
     "iopub.execute_input": "2024-09-19T11:51:06.929892Z",
     "iopub.status.busy": "2024-09-19T11:51:06.928695Z",
     "iopub.status.idle": "2024-09-19T11:51:07.386677Z",
     "shell.execute_reply": "2024-09-19T11:51:07.385430Z"
    },
    "papermill": {
     "duration": 0.475994,
     "end_time": "2024-09-19T11:51:07.389376",
     "exception": false,
     "start_time": "2024-09-19T11:51:06.913382",
     "status": "completed"
    },
    "tags": []
   },
   "outputs": [
    {
     "name": "stderr",
     "output_type": "stream",
     "text": [
      "/opt/conda/lib/python3.10/site-packages/seaborn/_oldcore.py:1119: FutureWarning: use_inf_as_na option is deprecated and will be removed in a future version. Convert inf values to NaN before operating instead.\n",
      "  with pd.option_context('mode.use_inf_as_na', True):\n"
     ]
    },
    {
     "data": {
      "image/png": "[encoded data removed]",
      "text/plain": [
       "<Figure size 1000x600 with 1 Axes>"
      ]
     },
     "metadata": {},
     "output_type": "display_data"
    }
   ],
   "source": [
    "# Filter the DataFrame to only include movies\n",
    "df_movies = df[df['type'] == 'Movie']\n",
    "\n",
    "# Further filter rows where 'duration' contains ' min' to avoid issues with non-movie entries\n",
    "df_movies = df_movies[df_movies['duration'].str.contains(' min')]\n",
    "\n",
    "# Remove the ' min' suffix from the duration and convert to float\n",
    "df_movies['duration'] = df_movies['duration'].str.replace(' min', '').astype(float)\n",
    "\n",
    "# Plot the distribution of movie durations\n",
    "plt.figure(figsize=(10, 6))\n",
    "sns.histplot(data=df_movies, x='duration', bins=30, kde=True, color='green')\n",
    "plt.title('Distribution of Movie Duration')\n",
    "plt.xlabel('Duration (minutes)')\n",
    "plt.show()\n"
   ]
  },
  {
   "cell_type": "markdown",
   "id": "53e3202d",
   "metadata": {
    "papermill": {
     "duration": 0.014711,
     "end_time": "2024-09-19T11:51:07.418911",
     "exception": false,
     "start_time": "2024-09-19T11:51:07.404200",
     "status": "completed"
    },
    "tags": []
   },
   "source": [
    "Discussion of the Netflix Dataset Analysis:\n",
    "Data Overview:\n",
    "\n",
    "The dataset consists of 8,807 entries and 12 columns, with information about different Netflix titles. The columns include show_id, type (Movie or TV Show), title, cast, country, release_year, rating, duration, listed_in (genres), and a brief description of each title.\n",
    "Missing Data:\n",
    "\n",
    "Some columns have missing data, particularly director (29.91% missing), cast (9.37%), and country (9.44%). These missing values are handled by dropping the director column and using the mode (most frequent value) to fill missing values for other categorical columns.\n",
    "Distribution of Content Type:\n",
    "\n",
    "A countplot shows the breakdown of content types: Movies vs. TV Shows. Movies are more frequent than TV Shows, but there is a significant amount of both types on Netflix.\n",
    "Top Countries Producing Netflix Content:\n",
    "\n",
    "The top 10 countries producing Netflix content are visualized. The United States is the dominant producer with 3,649 titles, followed by India and United Kingdom. This distribution shows Netflix’s international content reach but also highlights that the majority of its content comes from the US.\n",
    "Content Ratings:\n",
    "\n",
    "The dataset includes different content ratings (e.g., TV-MA, TV-14, R, etc.). The most common rating is TV-MA, which suggests a large portion of Netflix content is intended for mature audiences. This reflects Netflix’s strategy of targeting adult viewers with shows that often include more mature themes.\n",
    "Release Year Trends:\n",
    "\n",
    "A histogram of release years shows that Netflix’s content library has rapidly expanded in recent years. The majority of titles were added between 2010 and 2020, with a significant rise starting around 2015. This indicates Netflix’s aggressive push in producing or acquiring new content during the streaming boom.\n",
    "Movie Duration Distribution:\n",
    "\n",
    "Focusing on movies, a histogram shows the distribution of their durations. Most movies have a runtime of around 90–120 minutes, which is typical for feature films. A few outliers exist with notably longer durations.\n",
    "Handling of TV Show Durations:\n",
    "\n",
    "TV Shows often have durations listed as seasons (e.g., \"1 Season\", \"2 Seasons\"), which differs from movies that have durations listed in minutes. This difference was handled by filtering only movies for the duration analysis, avoiding potential errors from non-numeric values in the duration column.\n",
    "Conclusion:\n",
    "\n",
    "The analysis provides a good overview of the diversity of Netflix’s content, revealing patterns in content type, production countries, and ratings. The dominance of the US in content production, the large amount of mature-rated content, and the recent increase in titles all reflect Netflix’s strategy as a global content platform catering to various audiences.\n",
    "\n",
    "\n",
    "\n",
    "\n",
    "\n",
    "\n"
   ]
  }
 ],
 "metadata": {
  "kaggle": {
   "accelerator": "none",
   "dataSources": [
    {
     "datasetId": 434238,
     "sourceId": 2654038,
     "sourceType": "datasetVersion"
    }
   ],
   "dockerImageVersionId": 30761,
   "isGpuEnabled": false,
   "isInternetEnabled": true,
   "language": "python",
   "sourceType": "notebook"
  },
  "kernelspec": {
   "display_name": "Python 3",
   "language": "python",
   "name": "python3"
  },
  "language_info": {
   "codemirror_mode": {
    "name": "ipython",
    "version": 3
   },
   "file_extension": ".py",
   "mimetype": "text/x-python",
   "name": "python",
   "nbconvert_exporter": "python",
   "pygments_lexer": "ipython3",
   "version": "3.10.14"
  },
  "papermill": {
   "default_parameters": {},
   "duration": 9.181938,
   "end_time": "2024-09-19T11:51:08.256149",
   "environment_variables": {},
   "exception": null,
   "input_path": "__notebook__.ipynb",
   "output_path": "__notebook__.ipynb",
   "parameters": {},
   "start_time": "2024-09-19T11:50:59.074211",
   "version": "2.6.0"
  }
 },
 "nbformat": 4,
 "nbformat_minor": 5
}
